{
 "metadata": {
  "language_info": {
   "codemirror_mode": {
    "name": "ipython",
    "version": 3
   },
   "file_extension": ".py",
   "mimetype": "text/x-python",
   "name": "python",
   "nbconvert_exporter": "python",
   "pygments_lexer": "ipython3",
   "version": "3.8.5-final"
  },
  "orig_nbformat": 2,
  "kernelspec": {
   "name": "python3",
   "display_name": "Python 3.8.5 64-bit ('base': conda)",
   "metadata": {
    "interpreter": {
     "hash": "1f35f486eb6ce23489abc6d8c88052e0ba5c8d36cbbd1fd80ff2953db8759dad"
    }
   }
  }
 },
 "nbformat": 4,
 "nbformat_minor": 2,
 "cells": [
  {
   "source": [
    "# Análise e exploração de dados sobre um e-commerce\n",
    "Análise sobre dados de marketing de um site de e-commerce. É necessário ser feita uma análise e exploração para entender os problemas e entregar soluções *Data-Driven*."
   ],
   "cell_type": "markdown",
   "metadata": {}
  },
  {
   "cell_type": "code",
   "execution_count": 2,
   "metadata": {},
   "outputs": [],
   "source": [
    "import pandas as pd\n",
    "import numpy as np\n",
    "import matplotlib.pyplot as plt\n",
    "import seaborn as srn"
   ]
  },
  {
   "cell_type": "code",
   "execution_count": 3,
   "metadata": {},
   "outputs": [
    {
     "output_type": "execute_result",
     "data": {
      "text/plain": [
       "      ID  Year_Birth   Education Marital_Status      Income   Kidhome  \\\n",
       "0   1826        1970  Graduation       Divorced  $84,835.00         0   \n",
       "1      1        1961  Graduation         Single  $57,091.00         0   \n",
       "2  10476        1958  Graduation        Married  $67,267.00         0   \n",
       "3   1386        1967  Graduation       Together  $32,474.00         1   \n",
       "4   5371        1989  Graduation         Single  $21,474.00         1   \n",
       "\n",
       "   Teenhome Dt_Customer  Recency  MntWines  MntFruits  MntMeatProducts  \\\n",
       "0         0     6/16/14        0       189        104              379   \n",
       "1         0     6/15/14        0       464          5               64   \n",
       "2         1     5/13/14        0       134         11               59   \n",
       "3         1     5/11/14        0        10          0                1   \n",
       "4         0      4/8/14        0         6         16               24   \n",
       "\n",
       "   MntFishProducts  MntSweetProducts  MntGoldProds  NumDealsPurchases  \\\n",
       "0              111               189           218                  1   \n",
       "1                7                 0            37                  1   \n",
       "2               15                 2            30                  1   \n",
       "3                0                 0             0                  1   \n",
       "4               11                 0            34                  2   \n",
       "\n",
       "   NumWebPurchases  NumCatalogPurchases  NumStorePurchases  NumWebVisitsMonth  \\\n",
       "0                4                    4                  6                  1   \n",
       "1                7                    3                  7                  5   \n",
       "2                3                    2                  5                  2   \n",
       "3                1                    0                  2                  7   \n",
       "4                3                    1                  2                  7   \n",
       "\n",
       "   AcceptedCmp3  AcceptedCmp4  AcceptedCmp5  AcceptedCmp1  AcceptedCmp2  \\\n",
       "0             0             0             0             0             0   \n",
       "1             0             0             0             0             1   \n",
       "2             0             0             0             0             0   \n",
       "3             0             0             0             0             0   \n",
       "4             1             0             0             0             0   \n",
       "\n",
       "   Response  Complain Country  \n",
       "0         1         0      SP  \n",
       "1         1         0      CA  \n",
       "2         0         0      US  \n",
       "3         0         0     AUS  \n",
       "4         1         0      SP  "
      ],
      "text/html": "<div>\n<style scoped>\n    .dataframe tbody tr th:only-of-type {\n        vertical-align: middle;\n    }\n\n    .dataframe tbody tr th {\n        vertical-align: top;\n    }\n\n    .dataframe thead th {\n        text-align: right;\n    }\n</style>\n<table border=\"1\" class=\"dataframe\">\n  <thead>\n    <tr style=\"text-align: right;\">\n      <th></th>\n      <th>ID</th>\n      <th>Year_Birth</th>\n      <th>Education</th>\n      <th>Marital_Status</th>\n      <th>Income</th>\n      <th>Kidhome</th>\n      <th>Teenhome</th>\n      <th>Dt_Customer</th>\n      <th>Recency</th>\n      <th>MntWines</th>\n      <th>MntFruits</th>\n      <th>MntMeatProducts</th>\n      <th>MntFishProducts</th>\n      <th>MntSweetProducts</th>\n      <th>MntGoldProds</th>\n      <th>NumDealsPurchases</th>\n      <th>NumWebPurchases</th>\n      <th>NumCatalogPurchases</th>\n      <th>NumStorePurchases</th>\n      <th>NumWebVisitsMonth</th>\n      <th>AcceptedCmp3</th>\n      <th>AcceptedCmp4</th>\n      <th>AcceptedCmp5</th>\n      <th>AcceptedCmp1</th>\n      <th>AcceptedCmp2</th>\n      <th>Response</th>\n      <th>Complain</th>\n      <th>Country</th>\n    </tr>\n  </thead>\n  <tbody>\n    <tr>\n      <th>0</th>\n      <td>1826</td>\n      <td>1970</td>\n      <td>Graduation</td>\n      <td>Divorced</td>\n      <td>$84,835.00</td>\n      <td>0</td>\n      <td>0</td>\n      <td>6/16/14</td>\n      <td>0</td>\n      <td>189</td>\n      <td>104</td>\n      <td>379</td>\n      <td>111</td>\n      <td>189</td>\n      <td>218</td>\n      <td>1</td>\n      <td>4</td>\n      <td>4</td>\n      <td>6</td>\n      <td>1</td>\n      <td>0</td>\n      <td>0</td>\n      <td>0</td>\n      <td>0</td>\n      <td>0</td>\n      <td>1</td>\n      <td>0</td>\n      <td>SP</td>\n    </tr>\n    <tr>\n      <th>1</th>\n      <td>1</td>\n      <td>1961</td>\n      <td>Graduation</td>\n      <td>Single</td>\n      <td>$57,091.00</td>\n      <td>0</td>\n      <td>0</td>\n      <td>6/15/14</td>\n      <td>0</td>\n      <td>464</td>\n      <td>5</td>\n      <td>64</td>\n      <td>7</td>\n      <td>0</td>\n      <td>37</td>\n      <td>1</td>\n      <td>7</td>\n      <td>3</td>\n      <td>7</td>\n      <td>5</td>\n      <td>0</td>\n      <td>0</td>\n      <td>0</td>\n      <td>0</td>\n      <td>1</td>\n      <td>1</td>\n      <td>0</td>\n      <td>CA</td>\n    </tr>\n    <tr>\n      <th>2</th>\n      <td>10476</td>\n      <td>1958</td>\n      <td>Graduation</td>\n      <td>Married</td>\n      <td>$67,267.00</td>\n      <td>0</td>\n      <td>1</td>\n      <td>5/13/14</td>\n      <td>0</td>\n      <td>134</td>\n      <td>11</td>\n      <td>59</td>\n      <td>15</td>\n      <td>2</td>\n      <td>30</td>\n      <td>1</td>\n      <td>3</td>\n      <td>2</td>\n      <td>5</td>\n      <td>2</td>\n      <td>0</td>\n      <td>0</td>\n      <td>0</td>\n      <td>0</td>\n      <td>0</td>\n      <td>0</td>\n      <td>0</td>\n      <td>US</td>\n    </tr>\n    <tr>\n      <th>3</th>\n      <td>1386</td>\n      <td>1967</td>\n      <td>Graduation</td>\n      <td>Together</td>\n      <td>$32,474.00</td>\n      <td>1</td>\n      <td>1</td>\n      <td>5/11/14</td>\n      <td>0</td>\n      <td>10</td>\n      <td>0</td>\n      <td>1</td>\n      <td>0</td>\n      <td>0</td>\n      <td>0</td>\n      <td>1</td>\n      <td>1</td>\n      <td>0</td>\n      <td>2</td>\n      <td>7</td>\n      <td>0</td>\n      <td>0</td>\n      <td>0</td>\n      <td>0</td>\n      <td>0</td>\n      <td>0</td>\n      <td>0</td>\n      <td>AUS</td>\n    </tr>\n    <tr>\n      <th>4</th>\n      <td>5371</td>\n      <td>1989</td>\n      <td>Graduation</td>\n      <td>Single</td>\n      <td>$21,474.00</td>\n      <td>1</td>\n      <td>0</td>\n      <td>4/8/14</td>\n      <td>0</td>\n      <td>6</td>\n      <td>16</td>\n      <td>24</td>\n      <td>11</td>\n      <td>0</td>\n      <td>34</td>\n      <td>2</td>\n      <td>3</td>\n      <td>1</td>\n      <td>2</td>\n      <td>7</td>\n      <td>1</td>\n      <td>0</td>\n      <td>0</td>\n      <td>0</td>\n      <td>0</td>\n      <td>1</td>\n      <td>0</td>\n      <td>SP</td>\n    </tr>\n  </tbody>\n</table>\n</div>"
     },
     "metadata": {},
     "execution_count": 3
    }
   ],
   "source": [
    "base = pd.read_csv('./marketing_data.csv')\n",
    "pd.set_option('display.max_columns', None)\n",
    "base.head()"
   ]
  },
  {
   "source": [
    "Agora vamos começar a analisar e garimpar os dados para uma limpeza e tratamento."
   ],
   "cell_type": "markdown",
   "metadata": {}
  },
  {
   "cell_type": "code",
   "execution_count": 4,
   "metadata": {},
   "outputs": [
    {
     "output_type": "stream",
     "name": "stdout",
     "text": [
      "Shape:  (2240, 28)\nColunas:  ['ID', 'Year_Birth', 'Education', 'Marital_Status', ' Income ', 'Kidhome', 'Teenhome', 'Dt_Customer', 'Recency', 'MntWines', 'MntFruits', 'MntMeatProducts', 'MntFishProducts', 'MntSweetProducts', 'MntGoldProds', 'NumDealsPurchases', 'NumWebPurchases', 'NumCatalogPurchases', 'NumStorePurchases', 'NumWebVisitsMonth', 'AcceptedCmp3', 'AcceptedCmp4', 'AcceptedCmp5', 'AcceptedCmp1', 'AcceptedCmp2', 'Response', 'Complain', 'Country']\n"
     ]
    }
   ],
   "source": [
    "print('Shape: ', base.shape)\n",
    "print('Colunas: ', [col for col in base.columns])"
   ]
  },
  {
   "cell_type": "code",
   "execution_count": 5,
   "metadata": {},
   "outputs": [
    {
     "output_type": "execute_result",
     "data": {
      "text/plain": [
       "                 ID   Year_Birth      Kidhome     Teenhome      Recency  \\\n",
       "count   2240.000000  2240.000000  2240.000000  2240.000000  2240.000000   \n",
       "mean    5592.159821  1968.805804     0.444196     0.506250    49.109375   \n",
       "std     3246.662198    11.984069     0.538398     0.544538    28.962453   \n",
       "min        0.000000  1893.000000     0.000000     0.000000     0.000000   \n",
       "25%     2828.250000  1959.000000     0.000000     0.000000    24.000000   \n",
       "50%     5458.500000  1970.000000     0.000000     0.000000    49.000000   \n",
       "75%     8427.750000  1977.000000     1.000000     1.000000    74.000000   \n",
       "max    11191.000000  1996.000000     2.000000     2.000000    99.000000   \n",
       "\n",
       "          MntWines    MntFruits  MntMeatProducts  MntFishProducts  \\\n",
       "count  2240.000000  2240.000000      2240.000000      2240.000000   \n",
       "mean    303.935714    26.302232       166.950000        37.525446   \n",
       "std     336.597393    39.773434       225.715373        54.628979   \n",
       "min       0.000000     0.000000         0.000000         0.000000   \n",
       "25%      23.750000     1.000000        16.000000         3.000000   \n",
       "50%     173.500000     8.000000        67.000000        12.000000   \n",
       "75%     504.250000    33.000000       232.000000        50.000000   \n",
       "max    1493.000000   199.000000      1725.000000       259.000000   \n",
       "\n",
       "       MntSweetProducts  MntGoldProds  NumDealsPurchases  NumWebPurchases  \\\n",
       "count       2240.000000   2240.000000        2240.000000      2240.000000   \n",
       "mean          27.062946     44.021875           2.325000         4.084821   \n",
       "std           41.280498     52.167439           1.932238         2.778714   \n",
       "min            0.000000      0.000000           0.000000         0.000000   \n",
       "25%            1.000000      9.000000           1.000000         2.000000   \n",
       "50%            8.000000     24.000000           2.000000         4.000000   \n",
       "75%           33.000000     56.000000           3.000000         6.000000   \n",
       "max          263.000000    362.000000          15.000000        27.000000   \n",
       "\n",
       "       NumCatalogPurchases  NumStorePurchases  NumWebVisitsMonth  \\\n",
       "count          2240.000000        2240.000000        2240.000000   \n",
       "mean              2.662054           5.790179           5.316518   \n",
       "std               2.923101           3.250958           2.426645   \n",
       "min               0.000000           0.000000           0.000000   \n",
       "25%               0.000000           3.000000           3.000000   \n",
       "50%               2.000000           5.000000           6.000000   \n",
       "75%               4.000000           8.000000           7.000000   \n",
       "max              28.000000          13.000000          20.000000   \n",
       "\n",
       "       AcceptedCmp3  AcceptedCmp4  AcceptedCmp5  AcceptedCmp1  AcceptedCmp2  \\\n",
       "count   2240.000000   2240.000000   2240.000000   2240.000000   2240.000000   \n",
       "mean       0.072768      0.074554      0.072768      0.064286      0.013393   \n",
       "std        0.259813      0.262728      0.259813      0.245316      0.114976   \n",
       "min        0.000000      0.000000      0.000000      0.000000      0.000000   \n",
       "25%        0.000000      0.000000      0.000000      0.000000      0.000000   \n",
       "50%        0.000000      0.000000      0.000000      0.000000      0.000000   \n",
       "75%        0.000000      0.000000      0.000000      0.000000      0.000000   \n",
       "max        1.000000      1.000000      1.000000      1.000000      1.000000   \n",
       "\n",
       "          Response     Complain  \n",
       "count  2240.000000  2240.000000  \n",
       "mean      0.149107     0.009375  \n",
       "std       0.356274     0.096391  \n",
       "min       0.000000     0.000000  \n",
       "25%       0.000000     0.000000  \n",
       "50%       0.000000     0.000000  \n",
       "75%       0.000000     0.000000  \n",
       "max       1.000000     1.000000  "
      ],
      "text/html": "<div>\n<style scoped>\n    .dataframe tbody tr th:only-of-type {\n        vertical-align: middle;\n    }\n\n    .dataframe tbody tr th {\n        vertical-align: top;\n    }\n\n    .dataframe thead th {\n        text-align: right;\n    }\n</style>\n<table border=\"1\" class=\"dataframe\">\n  <thead>\n    <tr style=\"text-align: right;\">\n      <th></th>\n      <th>ID</th>\n      <th>Year_Birth</th>\n      <th>Kidhome</th>\n      <th>Teenhome</th>\n      <th>Recency</th>\n      <th>MntWines</th>\n      <th>MntFruits</th>\n      <th>MntMeatProducts</th>\n      <th>MntFishProducts</th>\n      <th>MntSweetProducts</th>\n      <th>MntGoldProds</th>\n      <th>NumDealsPurchases</th>\n      <th>NumWebPurchases</th>\n      <th>NumCatalogPurchases</th>\n      <th>NumStorePurchases</th>\n      <th>NumWebVisitsMonth</th>\n      <th>AcceptedCmp3</th>\n      <th>AcceptedCmp4</th>\n      <th>AcceptedCmp5</th>\n      <th>AcceptedCmp1</th>\n      <th>AcceptedCmp2</th>\n      <th>Response</th>\n      <th>Complain</th>\n    </tr>\n  </thead>\n  <tbody>\n    <tr>\n      <th>count</th>\n      <td>2240.000000</td>\n      <td>2240.000000</td>\n      <td>2240.000000</td>\n      <td>2240.000000</td>\n      <td>2240.000000</td>\n      <td>2240.000000</td>\n      <td>2240.000000</td>\n      <td>2240.000000</td>\n      <td>2240.000000</td>\n      <td>2240.000000</td>\n      <td>2240.000000</td>\n      <td>2240.000000</td>\n      <td>2240.000000</td>\n      <td>2240.000000</td>\n      <td>2240.000000</td>\n      <td>2240.000000</td>\n      <td>2240.000000</td>\n      <td>2240.000000</td>\n      <td>2240.000000</td>\n      <td>2240.000000</td>\n      <td>2240.000000</td>\n      <td>2240.000000</td>\n      <td>2240.000000</td>\n    </tr>\n    <tr>\n      <th>mean</th>\n      <td>5592.159821</td>\n      <td>1968.805804</td>\n      <td>0.444196</td>\n      <td>0.506250</td>\n      <td>49.109375</td>\n      <td>303.935714</td>\n      <td>26.302232</td>\n      <td>166.950000</td>\n      <td>37.525446</td>\n      <td>27.062946</td>\n      <td>44.021875</td>\n      <td>2.325000</td>\n      <td>4.084821</td>\n      <td>2.662054</td>\n      <td>5.790179</td>\n      <td>5.316518</td>\n      <td>0.072768</td>\n      <td>0.074554</td>\n      <td>0.072768</td>\n      <td>0.064286</td>\n      <td>0.013393</td>\n      <td>0.149107</td>\n      <td>0.009375</td>\n    </tr>\n    <tr>\n      <th>std</th>\n      <td>3246.662198</td>\n      <td>11.984069</td>\n      <td>0.538398</td>\n      <td>0.544538</td>\n      <td>28.962453</td>\n      <td>336.597393</td>\n      <td>39.773434</td>\n      <td>225.715373</td>\n      <td>54.628979</td>\n      <td>41.280498</td>\n      <td>52.167439</td>\n      <td>1.932238</td>\n      <td>2.778714</td>\n      <td>2.923101</td>\n      <td>3.250958</td>\n      <td>2.426645</td>\n      <td>0.259813</td>\n      <td>0.262728</td>\n      <td>0.259813</td>\n      <td>0.245316</td>\n      <td>0.114976</td>\n      <td>0.356274</td>\n      <td>0.096391</td>\n    </tr>\n    <tr>\n      <th>min</th>\n      <td>0.000000</td>\n      <td>1893.000000</td>\n      <td>0.000000</td>\n      <td>0.000000</td>\n      <td>0.000000</td>\n      <td>0.000000</td>\n      <td>0.000000</td>\n      <td>0.000000</td>\n      <td>0.000000</td>\n      <td>0.000000</td>\n      <td>0.000000</td>\n      <td>0.000000</td>\n      <td>0.000000</td>\n      <td>0.000000</td>\n      <td>0.000000</td>\n      <td>0.000000</td>\n      <td>0.000000</td>\n      <td>0.000000</td>\n      <td>0.000000</td>\n      <td>0.000000</td>\n      <td>0.000000</td>\n      <td>0.000000</td>\n      <td>0.000000</td>\n    </tr>\n    <tr>\n      <th>25%</th>\n      <td>2828.250000</td>\n      <td>1959.000000</td>\n      <td>0.000000</td>\n      <td>0.000000</td>\n      <td>24.000000</td>\n      <td>23.750000</td>\n      <td>1.000000</td>\n      <td>16.000000</td>\n      <td>3.000000</td>\n      <td>1.000000</td>\n      <td>9.000000</td>\n      <td>1.000000</td>\n      <td>2.000000</td>\n      <td>0.000000</td>\n      <td>3.000000</td>\n      <td>3.000000</td>\n      <td>0.000000</td>\n      <td>0.000000</td>\n      <td>0.000000</td>\n      <td>0.000000</td>\n      <td>0.000000</td>\n      <td>0.000000</td>\n      <td>0.000000</td>\n    </tr>\n    <tr>\n      <th>50%</th>\n      <td>5458.500000</td>\n      <td>1970.000000</td>\n      <td>0.000000</td>\n      <td>0.000000</td>\n      <td>49.000000</td>\n      <td>173.500000</td>\n      <td>8.000000</td>\n      <td>67.000000</td>\n      <td>12.000000</td>\n      <td>8.000000</td>\n      <td>24.000000</td>\n      <td>2.000000</td>\n      <td>4.000000</td>\n      <td>2.000000</td>\n      <td>5.000000</td>\n      <td>6.000000</td>\n      <td>0.000000</td>\n      <td>0.000000</td>\n      <td>0.000000</td>\n      <td>0.000000</td>\n      <td>0.000000</td>\n      <td>0.000000</td>\n      <td>0.000000</td>\n    </tr>\n    <tr>\n      <th>75%</th>\n      <td>8427.750000</td>\n      <td>1977.000000</td>\n      <td>1.000000</td>\n      <td>1.000000</td>\n      <td>74.000000</td>\n      <td>504.250000</td>\n      <td>33.000000</td>\n      <td>232.000000</td>\n      <td>50.000000</td>\n      <td>33.000000</td>\n      <td>56.000000</td>\n      <td>3.000000</td>\n      <td>6.000000</td>\n      <td>4.000000</td>\n      <td>8.000000</td>\n      <td>7.000000</td>\n      <td>0.000000</td>\n      <td>0.000000</td>\n      <td>0.000000</td>\n      <td>0.000000</td>\n      <td>0.000000</td>\n      <td>0.000000</td>\n      <td>0.000000</td>\n    </tr>\n    <tr>\n      <th>max</th>\n      <td>11191.000000</td>\n      <td>1996.000000</td>\n      <td>2.000000</td>\n      <td>2.000000</td>\n      <td>99.000000</td>\n      <td>1493.000000</td>\n      <td>199.000000</td>\n      <td>1725.000000</td>\n      <td>259.000000</td>\n      <td>263.000000</td>\n      <td>362.000000</td>\n      <td>15.000000</td>\n      <td>27.000000</td>\n      <td>28.000000</td>\n      <td>13.000000</td>\n      <td>20.000000</td>\n      <td>1.000000</td>\n      <td>1.000000</td>\n      <td>1.000000</td>\n      <td>1.000000</td>\n      <td>1.000000</td>\n      <td>1.000000</td>\n      <td>1.000000</td>\n    </tr>\n  </tbody>\n</table>\n</div>"
     },
     "metadata": {},
     "execution_count": 5
    }
   ],
   "source": [
    "base.describe()"
   ]
  },
  {
   "cell_type": "code",
   "execution_count": 6,
   "metadata": {},
   "outputs": [
    {
     "output_type": "execute_result",
     "data": {
      "text/plain": [
       "ID                      0\n",
       "Year_Birth              0\n",
       "Education               0\n",
       "Marital_Status          0\n",
       " Income                24\n",
       "Kidhome                 0\n",
       "Teenhome                0\n",
       "Dt_Customer             0\n",
       "Recency                 0\n",
       "MntWines                0\n",
       "MntFruits               0\n",
       "MntMeatProducts         0\n",
       "MntFishProducts         0\n",
       "MntSweetProducts        0\n",
       "MntGoldProds            0\n",
       "NumDealsPurchases       0\n",
       "NumWebPurchases         0\n",
       "NumCatalogPurchases     0\n",
       "NumStorePurchases       0\n",
       "NumWebVisitsMonth       0\n",
       "AcceptedCmp3            0\n",
       "AcceptedCmp4            0\n",
       "AcceptedCmp5            0\n",
       "AcceptedCmp1            0\n",
       "AcceptedCmp2            0\n",
       "Response                0\n",
       "Complain                0\n",
       "Country                 0\n",
       "dtype: int64"
      ]
     },
     "metadata": {},
     "execution_count": 6
    }
   ],
   "source": [
    "# Valores nulos\n",
    "base.isnull().sum() # == base.isna().sum() # true"
   ]
  },
  {
   "source": [
    "Antes de continuar, trocaremos o nome ' Income ' para 'income', pois está com espaços indesejados:"
   ],
   "cell_type": "markdown",
   "metadata": {}
  },
  {
   "cell_type": "code",
   "execution_count": 7,
   "metadata": {},
   "outputs": [],
   "source": [
    "base.rename(mapper={' Income ': 'income'}, inplace=True, axis=1)"
   ]
  },
  {
   "source": [
    "Veremos se nos valores categóricos terão dados unitários."
   ],
   "cell_type": "markdown",
   "metadata": {}
  },
  {
   "cell_type": "code",
   "execution_count": 8,
   "metadata": {},
   "outputs": [
    {
     "output_type": "execute_result",
     "data": {
      "text/plain": [
       "['Education', 'Marital_Status', 'income', 'Dt_Customer', 'Country']"
      ]
     },
     "metadata": {},
     "execution_count": 8
    }
   ],
   "source": [
    "categorical = base.dtypes == 'object'\n",
    "categories = list(categorical[categorical].index)\n",
    "categories"
   ]
  },
  {
   "cell_type": "code",
   "execution_count": 9,
   "metadata": {},
   "outputs": [
    {
     "output_type": "stream",
     "name": "stdout",
     "text": [
      "Valores unitários em Education:  ['Graduation' 'PhD' '2n Cycle' 'Master' 'Basic']\nValores unitários em Marital_Status:  ['Divorced' 'Single' 'Married' 'Together' 'Widow' 'YOLO' 'Alone' 'Absurd']\nValores unitários em income:  ['$84,835.00 ' '$57,091.00 ' '$67,267.00 ' ... '$46,310.00 ' '$65,819.00 '\n '$94,871.00 ']\nValores unitários em Dt_Customer:  ['6/16/14' '6/15/14' '5/13/14' '5/11/14' '4/8/14' '3/17/14' '1/29/14'\n '1/18/14' '1/11/14' '12/27/13' '12/9/13' '12/7/13' '10/16/13' '10/5/13'\n '9/11/13' '8/1/13' '7/23/13' '7/1/13' '5/28/13' '3/26/13' '3/15/13'\n '2/12/13' '11/23/12' '10/13/12' '9/14/12' '6/29/14' '5/31/14' '5/30/14'\n '4/27/14' '4/11/14' '10/29/13' '10/9/13' '5/10/13' '5/9/13' '4/25/13'\n '4/20/13' '3/30/13' '3/1/13' '2/14/13' '1/11/13' '1/3/13' '12/19/12'\n '12/15/12' '12/2/12' '9/17/12' '9/11/12' '5/12/14' '4/28/14' '3/29/14'\n '3/6/14' '3/4/14' '2/4/14' '2/3/14' '1/1/14' '12/12/13' '11/15/13'\n '9/20/13' '9/5/13' '8/31/13' '7/30/13' '7/27/13' '6/22/13' '1/5/13'\n '11/21/12' '11/11/12' '9/28/12' '9/27/12' '9/7/12' '8/13/12' '8/11/12'\n '8/2/12' '6/25/14' '5/28/14' '4/14/14' '3/10/14' '2/27/14' '2/7/14'\n '1/28/14' '11/17/13' '11/7/13' '10/17/13' '10/13/13' '10/12/13' '9/30/13'\n '7/3/13' '6/10/13' '5/29/13' '4/29/13' '3/10/13' '1/2/13' '11/2/12'\n '10/18/12' '10/1/12' '9/3/12' '8/26/12' '5/23/14' '5/17/14' '4/21/14'\n '3/23/14' '12/16/13' '11/26/13' '11/14/13' '11/6/13' '10/6/13' '9/27/13'\n '9/18/13' '9/9/13' '7/18/13' '7/8/13' '5/27/13' '3/5/13' '2/20/13'\n '1/12/13' '12/24/12' '11/19/12' '3/28/14' '2/24/14' '9/2/13' '8/20/13'\n '6/23/13' '5/5/13' '4/5/13' '1/4/13' '12/27/12' '11/10/12' '10/29/12'\n '9/22/12' '3/31/14' '3/21/14' '2/9/14' '9/23/13' '6/27/13' '3/28/13'\n '3/12/13' '1/16/13' '1/8/13' '12/29/12' '12/12/12' '11/25/12' '9/21/12'\n '9/9/12' '9/5/12' '8/17/12' '6/22/14' '5/1/14' '1/3/14' '10/11/13'\n '8/13/13' '6/9/13' '5/7/13' '10/2/12' '9/12/12' '3/19/14' '3/3/14'\n '2/22/14' '1/24/14' '12/4/13' '11/28/13' '11/5/13' '10/3/13' '8/9/13'\n '8/7/13' '7/17/13' '7/9/13' '6/11/13' '5/17/13' '3/23/13' '2/19/13'\n '1/19/13' '1/10/13' '1/1/13' '11/12/12' '5/18/14' '3/30/14' '1/30/14'\n '1/26/14' '1/22/14' '1/15/14' '12/13/13' '8/4/13' '5/1/13' '4/24/13'\n '4/3/13' '2/3/13' '11/16/12' '8/3/12' '4/18/14' '4/1/14' '3/18/14'\n '2/10/14' '11/23/13' '11/21/13' '10/2/13' '7/21/13' '6/18/13' '3/24/13'\n '12/6/12' '11/9/12' '2/14/14' '10/22/13' '10/4/13' '9/21/13' '8/5/13'\n '7/14/13' '7/4/13' '4/12/13' '4/10/13' '4/8/13' '3/31/13' '3/17/13'\n '1/21/13' '12/10/12' '9/24/12' '8/6/12' '6/18/14' '4/5/14' '12/21/13'\n '10/27/13' '10/21/13' '9/19/13' '9/4/13' '6/25/13' '4/27/13' '4/18/13'\n '12/30/12' '8/22/12' '8/8/12' '6/19/14' '4/20/14' '2/28/14' '12/17/13'\n '11/25/13' '10/28/13' '8/15/13' '7/5/13' '6/19/13' '6/16/13' '4/22/13'\n '3/19/13' '2/23/13' '2/15/13' '10/31/12' '10/7/12' '8/9/12' '5/6/14'\n '4/15/14' '3/5/14' '2/19/14' '9/7/13' '8/6/13' '7/25/13' '4/30/13'\n '9/10/12' '3/20/14' '9/28/13' '9/24/13' '2/16/13' '11/22/12' '9/18/12'\n '8/16/12' '6/5/14' '4/13/14' '4/10/14' '4/3/14' '2/12/14' '12/15/13'\n '10/30/13' '8/26/13' '2/2/13' '1/25/13' '11/17/12' '11/13/12' '11/7/12'\n '11/1/12' '10/16/12' '5/8/14' '3/2/14' '6/24/13' '6/13/13' '4/23/13'\n '4/15/13' '1/29/13' '10/30/12' '10/23/12' '4/17/14' '2/25/14' '12/11/13'\n '10/10/13' '5/20/13' '5/18/13' '4/7/13' '3/3/13' '12/7/12' '11/28/12'\n '10/27/12' '9/15/12' '6/17/14' '5/29/14' '3/1/14' '2/15/14' '12/23/13'\n '11/29/13' '10/25/13' '8/17/13' '6/6/13' '3/29/13' '9/23/12' '8/30/12'\n '8/1/12' '2/8/14' '1/25/14' '11/27/13' '10/19/13' '3/7/13' '2/28/13'\n '1/17/13' '11/20/12' '11/5/12' '11/3/12' '8/31/12' '8/12/12' '5/15/14'\n '4/12/14' '4/6/14' '2/6/14' '7/29/13' '6/29/13' '6/17/13' '6/8/13'\n '5/26/13' '11/8/12' '8/4/12' '4/30/14' '4/7/14' '3/12/14' '4/13/13'\n '2/13/13' '6/3/14' '3/25/14' '2/17/14' '2/5/14' '1/27/14' '1/14/14'\n '7/11/13' '6/2/13' '6/1/13' '5/4/13' '3/18/13' '12/3/12' '11/24/12'\n '10/26/12' '6/20/14' '1/19/14' '1/9/14' '12/29/13' '12/26/13' '12/8/13'\n '11/20/13' '8/23/13' '8/19/13' '7/24/13' '10/6/12' '8/18/12' '5/7/14'\n '11/9/13' '8/25/13' '5/16/13' '4/1/13' '3/27/13' '2/8/13' '9/20/12'\n '5/22/14' '12/30/13' '11/2/13' '8/21/13' '7/12/13' '6/28/13' '6/4/13'\n '5/31/13' '3/6/13' '2/18/13' '9/26/12' '8/19/12' '5/2/14' '4/29/14'\n '2/2/14' '1/5/14' '12/5/13' '11/18/13' '9/10/13' '8/3/13' '2/21/13'\n '2/10/13' '1/31/13' '12/9/12' '9/29/12' '6/9/14' '4/2/14' '3/24/14'\n '1/23/14' '9/16/13' '9/12/13' '7/15/13' '3/9/13' '2/9/13' '12/14/12'\n '10/17/12' '6/23/14' '6/12/14' '6/7/14' '4/9/14' '2/13/14' '12/6/13'\n '10/20/13' '6/20/13' '5/8/13' '3/11/13' '9/6/12' '3/9/14' '2/11/14'\n '10/8/13' '8/28/13' '7/6/13' '5/30/13' '5/22/13' '4/2/13' '3/20/13'\n '3/14/13' '1/22/13' '9/8/12' '8/25/12' '8/14/12' '11/19/13' '6/3/13'\n '12/21/12' '10/10/12' '8/7/12' '12/24/13' '12/14/13' '5/15/13' '5/6/13'\n '1/7/13' '11/29/12' '4/24/14' '3/8/14' '7/16/13' '2/22/13' '1/20/13'\n '1/13/13' '12/25/12' '12/11/12' '6/27/14' '3/16/14' '11/3/13' '9/25/13'\n '9/15/13' '9/1/13' '8/2/13' '8/27/12' '4/4/14' '9/22/13' '12/22/12'\n '12/16/12' '8/20/12' '1/7/14' '12/1/13' '9/26/13' '2/25/13' '10/24/12'\n '10/22/12' '7/31/12' '5/19/14' '5/3/14' '4/16/14' '12/31/13' '12/2/13'\n '7/22/13' '4/21/13' '4/11/13' '3/22/14' '2/6/13' '12/4/12' '11/6/12'\n '8/28/12' '7/2/13' '10/12/12' '5/16/14' '4/25/14' '11/13/13' '9/6/13'\n '11/18/12' '10/15/12' '6/14/14' '1/17/14' '2/7/13' '12/20/13' '9/13/13'\n '1/6/13' '5/26/14' '1/13/14' '8/8/13' '4/6/13' '2/26/14' '5/14/13'\n '8/24/12' '5/27/14' '2/23/14' '1/10/14' '7/19/13' '3/25/13' '2/11/13'\n '1/15/13' '12/5/12' '6/13/14' '6/2/14' '11/1/13' '8/16/13' '2/17/13'\n '2/4/13' '10/19/12' '6/26/14' '10/23/13' '4/14/13' '10/28/12' '10/1/13'\n '3/8/13' '11/14/12' '1/12/14' '11/4/13' '8/22/13' '6/21/13' '1/23/13'\n '10/21/12' '10/4/12' '1/31/14' '1/21/14' '12/28/13' '8/11/13' '5/13/13'\n '9/2/12' '6/24/14' '6/8/14' '5/24/14' '10/18/13' '9/17/13' '8/14/13'\n '7/20/13' '6/30/13' '5/11/13' '4/16/13' '5/25/14' '5/10/14' '5/4/14'\n '8/29/13' '3/22/13' '6/4/14' '5/23/13' '2/1/13' '2/16/14' '10/24/13'\n '3/2/13' '12/18/12' '11/4/12' '6/11/14' '6/14/13' '6/10/14' '5/5/14'\n '4/19/14' '8/18/13' '2/26/13' '8/30/13' '6/12/13' '5/12/13' '10/9/12'\n '11/10/13' '8/24/13' '9/4/12' '2/27/13' '1/6/14' '7/7/13' '11/26/12'\n '8/29/12' '5/2/13' '3/4/13' '1/27/13' '8/23/12' '10/14/13' '12/23/12'\n '12/1/12' '8/5/12' '8/27/13' '12/17/12' '6/21/14' '3/26/14' '11/22/13'\n '8/21/12' '4/22/14' '10/26/13' '5/9/14' '4/17/13' '3/21/13' '1/24/13'\n '12/28/12' '3/13/14' '2/1/14' '10/15/13' '1/14/13' '10/5/12' '7/13/13'\n '4/23/14' '2/18/14' '11/12/13' '8/12/13' '12/31/12' '6/28/14' '12/3/13'\n '12/26/12' '7/30/12' '1/2/14' '4/19/13' '1/26/13' '10/14/12' '9/30/12'\n '3/11/14' '9/14/13' '7/28/13' '5/19/13' '4/28/13' '1/9/13' '10/20/12'\n '7/31/13' '5/21/13' '9/25/12' '5/3/13' '12/8/12' '3/27/14' '12/18/13'\n '11/30/13' '8/10/13' '3/16/13' '11/30/12' '3/7/14' '12/19/13' '10/25/12'\n '12/25/13' '1/4/14' '11/8/13' '11/27/12' '7/26/13' '12/20/12' '10/11/12'\n '4/26/14' '12/22/13' '6/26/13' '5/24/13' '8/15/12' '12/10/13' '9/19/12'\n '8/10/12' '6/6/14' '5/25/13' '4/9/13' '9/1/12']\nValores unitários em Country:  ['SP' 'CA' 'US' 'AUS' 'GER' 'IND' 'SA' 'ME']\n"
     ]
    }
   ],
   "source": [
    "for cat in categories:\n",
    "    print(f'Valores unitários em {cat}: ', base[cat].unique())"
   ]
  },
  {
   "source": [
    "Podemos refletir que nem todos os valores categóricos são realmente categóricos. Teremos que arrumar isso antes de prosseguir.\n",
    "\n",
    "Valores não categóricos que precisam ser transformados: \\['income', 'Dt_Customer'\\]"
   ],
   "cell_type": "markdown",
   "metadata": {}
  },
  {
   "source": [
    "# YOLO não é bem um estado civil...\n",
    "base.loc[base.Marital_Status == 'YOLO']"
   ],
   "cell_type": "code",
   "metadata": {},
   "execution_count": 10,
   "outputs": [
    {
     "output_type": "execute_result",
     "data": {
      "text/plain": [
       "        ID  Year_Birth Education Marital_Status       income  Kidhome  \\\n",
       "103    492        1973       PhD           YOLO  $48,432.00         0   \n",
       "104  11133        1973       PhD           YOLO  $48,432.00         0   \n",
       "\n",
       "     Teenhome Dt_Customer  Recency  MntWines  MntFruits  MntMeatProducts  \\\n",
       "103         1    10/18/12        3       322          3               50   \n",
       "104         1    10/18/12        3       322          3               50   \n",
       "\n",
       "     MntFishProducts  MntSweetProducts  MntGoldProds  NumDealsPurchases  \\\n",
       "103                4                 3            42                  5   \n",
       "104                4                 3            42                  5   \n",
       "\n",
       "     NumWebPurchases  NumCatalogPurchases  NumStorePurchases  \\\n",
       "103                7                    1                  6   \n",
       "104                7                    1                  6   \n",
       "\n",
       "     NumWebVisitsMonth  AcceptedCmp3  AcceptedCmp4  AcceptedCmp5  \\\n",
       "103                  8             0             0             0   \n",
       "104                  8             0             0             0   \n",
       "\n",
       "     AcceptedCmp1  AcceptedCmp2  Response  Complain Country  \n",
       "103             0             0         0         0      CA  \n",
       "104             0             0         1         0     IND  "
      ],
      "text/html": "<div>\n<style scoped>\n    .dataframe tbody tr th:only-of-type {\n        vertical-align: middle;\n    }\n\n    .dataframe tbody tr th {\n        vertical-align: top;\n    }\n\n    .dataframe thead th {\n        text-align: right;\n    }\n</style>\n<table border=\"1\" class=\"dataframe\">\n  <thead>\n    <tr style=\"text-align: right;\">\n      <th></th>\n      <th>ID</th>\n      <th>Year_Birth</th>\n      <th>Education</th>\n      <th>Marital_Status</th>\n      <th>income</th>\n      <th>Kidhome</th>\n      <th>Teenhome</th>\n      <th>Dt_Customer</th>\n      <th>Recency</th>\n      <th>MntWines</th>\n      <th>MntFruits</th>\n      <th>MntMeatProducts</th>\n      <th>MntFishProducts</th>\n      <th>MntSweetProducts</th>\n      <th>MntGoldProds</th>\n      <th>NumDealsPurchases</th>\n      <th>NumWebPurchases</th>\n      <th>NumCatalogPurchases</th>\n      <th>NumStorePurchases</th>\n      <th>NumWebVisitsMonth</th>\n      <th>AcceptedCmp3</th>\n      <th>AcceptedCmp4</th>\n      <th>AcceptedCmp5</th>\n      <th>AcceptedCmp1</th>\n      <th>AcceptedCmp2</th>\n      <th>Response</th>\n      <th>Complain</th>\n      <th>Country</th>\n    </tr>\n  </thead>\n  <tbody>\n    <tr>\n      <th>103</th>\n      <td>492</td>\n      <td>1973</td>\n      <td>PhD</td>\n      <td>YOLO</td>\n      <td>$48,432.00</td>\n      <td>0</td>\n      <td>1</td>\n      <td>10/18/12</td>\n      <td>3</td>\n      <td>322</td>\n      <td>3</td>\n      <td>50</td>\n      <td>4</td>\n      <td>3</td>\n      <td>42</td>\n      <td>5</td>\n      <td>7</td>\n      <td>1</td>\n      <td>6</td>\n      <td>8</td>\n      <td>0</td>\n      <td>0</td>\n      <td>0</td>\n      <td>0</td>\n      <td>0</td>\n      <td>0</td>\n      <td>0</td>\n      <td>CA</td>\n    </tr>\n    <tr>\n      <th>104</th>\n      <td>11133</td>\n      <td>1973</td>\n      <td>PhD</td>\n      <td>YOLO</td>\n      <td>$48,432.00</td>\n      <td>0</td>\n      <td>1</td>\n      <td>10/18/12</td>\n      <td>3</td>\n      <td>322</td>\n      <td>3</td>\n      <td>50</td>\n      <td>4</td>\n      <td>3</td>\n      <td>42</td>\n      <td>5</td>\n      <td>7</td>\n      <td>1</td>\n      <td>6</td>\n      <td>8</td>\n      <td>0</td>\n      <td>0</td>\n      <td>0</td>\n      <td>0</td>\n      <td>0</td>\n      <td>1</td>\n      <td>0</td>\n      <td>IND</td>\n    </tr>\n  </tbody>\n</table>\n</div>"
     },
     "metadata": {},
     "execution_count": 10
    }
   ]
  },
  {
   "cell_type": "code",
   "execution_count": null,
   "metadata": {},
   "outputs": [],
   "source": []
  },
  {
   "cell_type": "code",
   "execution_count": null,
   "metadata": {},
   "outputs": [],
   "source": []
  },
  {
   "source": [
    "Vemos que os valores nulos só aparecem em Income."
   ],
   "cell_type": "markdown",
   "metadata": {}
  },
  {
   "source": [
    "Então, mostramos os valores nulos de 'income', veremos a melhor forma de tratar esse valores faltantes."
   ],
   "cell_type": "markdown",
   "metadata": {}
  },
  {
   "cell_type": "code",
   "execution_count": 11,
   "metadata": {},
   "outputs": [
    {
     "output_type": "execute_result",
     "data": {
      "text/plain": [
       "         ID  Year_Birth   Education Marital_Status income  Kidhome  Teenhome  \\\n",
       "134    8996        1957         PhD        Married    NaN        2         1   \n",
       "262    1994        1983  Graduation        Married    NaN        1         0   \n",
       "394    3769        1972         PhD       Together    NaN        1         0   \n",
       "449    5255        1986  Graduation         Single    NaN        1         0   \n",
       "525    8268        1961         PhD        Married    NaN        0         1   \n",
       "590   10629        1973    2n Cycle        Married    NaN        1         0   \n",
       "899   10475        1970      Master       Together    NaN        0         1   \n",
       "997    9235        1957  Graduation         Single    NaN        1         1   \n",
       "1096   4345        1964    2n Cycle         Single    NaN        1         1   \n",
       "1185   7187        1969      Master       Together    NaN        1         1   \n",
       "1213   8720        1978    2n Cycle       Together    NaN        0         0   \n",
       "1312   8557        1982  Graduation         Single    NaN        1         0   \n",
       "1515   2863        1970  Graduation         Single    NaN        1         2   \n",
       "1558   2437        1989  Graduation        Married    NaN        0         0   \n",
       "1693   5250        1943      Master          Widow    NaN        0         0   \n",
       "1804   7281        1959         PhD         Single    NaN        0         0   \n",
       "1858   1612        1981         PhD         Single    NaN        1         0   \n",
       "1863   5079        1971  Graduation        Married    NaN        1         1   \n",
       "1880  10339        1954      Master       Together    NaN        0         1   \n",
       "1967   5798        1973      Master       Together    NaN        0         0   \n",
       "1983   2902        1958  Graduation       Together    NaN        1         1   \n",
       "2139   3117        1955  Graduation         Single    NaN        0         1   \n",
       "2165   7244        1951  Graduation         Single    NaN        2         1   \n",
       "2170   1295        1963  Graduation        Married    NaN        0         1   \n",
       "\n",
       "     Dt_Customer  Recency  MntWines  MntFruits  MntMeatProducts  \\\n",
       "134     11/19/12        4       230         42              192   \n",
       "262     11/15/13       11         5          5                6   \n",
       "394       3/2/14       17        25          1               13   \n",
       "449      2/20/13       19         5          1                3   \n",
       "525      7/11/13       23       352          0               27   \n",
       "590      9/14/12       25        25          3               43   \n",
       "899       4/1/13       39       187          5               65   \n",
       "997      5/27/14       45         7          0                8   \n",
       "1096     1/12/14       49         5          1                9   \n",
       "1185     5/18/13       52       375         42               48   \n",
       "1213     8/12/12       53        32          2             1607   \n",
       "1312     6/17/13       57        11          3               22   \n",
       "1515     8/23/13       67       738         20              172   \n",
       "1558      6/3/13       69       861        138              461   \n",
       "1693    10/30/13       75       532        126              490   \n",
       "1804     11/5/13       80        81         11               50   \n",
       "1858     5/31/13       82        23          0               15   \n",
       "1863      3/3/13       82        71          1               16   \n",
       "1880     6/23/13       83       161          0               22   \n",
       "1967    11/23/13       87       445         37              359   \n",
       "1983      9/3/12       87        19          4               12   \n",
       "2139    10/18/13       95       264          0               21   \n",
       "2165      1/1/14       96        48          5               48   \n",
       "2170     8/11/13       96       231         65              196   \n",
       "\n",
       "      MntFishProducts  MntSweetProducts  MntGoldProds  NumDealsPurchases  \\\n",
       "134                49                37            53                 12   \n",
       "262                 0                 2             1                  1   \n",
       "394                 0                 0             3                  1   \n",
       "449                 3               263           362                  0   \n",
       "525                10                 0            15                  3   \n",
       "590                17                 4            17                  3   \n",
       "899                26                20            14                  2   \n",
       "997                 2                 0             1                  1   \n",
       "1096                2                 0             4                  1   \n",
       "1185               94                66            96                  7   \n",
       "1213               12                 4            22                  0   \n",
       "1312                2                 2             6                  2   \n",
       "1515               52                50            20                  6   \n",
       "1558               60                30            61                  1   \n",
       "1693              164               126           126                  1   \n",
       "1804                3                 2            39                  1   \n",
       "1858                0                 2             7                  2   \n",
       "1863                0                 0             9                  4   \n",
       "1880                0                 0            24                  2   \n",
       "1967               98                28            18                  1   \n",
       "1983                2                 2             6                  1   \n",
       "2139               12                 6           147                  3   \n",
       "2165                6                10             7                  3   \n",
       "2170               38                71           124                  1   \n",
       "\n",
       "      NumWebPurchases  NumCatalogPurchases  NumStorePurchases  \\\n",
       "134                 7                    2                  8   \n",
       "262                 1                    0                  2   \n",
       "394                 1                    0                  3   \n",
       "449                27                    0                  0   \n",
       "525                 6                    1                  7   \n",
       "590                 3                    0                  3   \n",
       "899                 4                    2                  6   \n",
       "997                 1                    0                  2   \n",
       "1096                1                    0                  2   \n",
       "1185                4                   10                  4   \n",
       "1213                0                    0                  1   \n",
       "1312                2                    0                  3   \n",
       "1515                2                    3                 10   \n",
       "1558                6                    5                 12   \n",
       "1693                5                    5                 11   \n",
       "1804                1                    3                  4   \n",
       "1858                3                    0                  3   \n",
       "1863                2                    1                  3   \n",
       "1880                4                    1                  4   \n",
       "1967                2                    4                  8   \n",
       "1983                1                    0                  3   \n",
       "2139                6                    1                  5   \n",
       "2165                2                    1                  4   \n",
       "2170                6                    5                  7   \n",
       "\n",
       "      NumWebVisitsMonth  AcceptedCmp3  AcceptedCmp4  AcceptedCmp5  \\\n",
       "134                   9             0             0             0   \n",
       "262                   7             0             0             0   \n",
       "394                   7             0             0             0   \n",
       "449                   1             0             0             0   \n",
       "525                   6             0             0             0   \n",
       "590                   8             0             0             0   \n",
       "899                   5             0             0             0   \n",
       "997                   7             0             0             0   \n",
       "1096                  7             0             0             0   \n",
       "1185                  3             0             0             0   \n",
       "1213                  0             0             1             0   \n",
       "1312                  6             0             0             0   \n",
       "1515                  7             0             1             0   \n",
       "1558                  3             0             1             0   \n",
       "1693                  1             0             0             1   \n",
       "1804                  2             0             0             0   \n",
       "1858                  6             0             0             0   \n",
       "1863                  8             0             0             0   \n",
       "1880                  6             0             0             0   \n",
       "1967                  1             0             0             0   \n",
       "1983                  5             0             0             0   \n",
       "2139                  7             0             0             0   \n",
       "2165                  6             0             0             0   \n",
       "2170                  4             0             0             0   \n",
       "\n",
       "      AcceptedCmp1  AcceptedCmp2  Response  Complain Country  \n",
       "134              0             0         0         0     GER  \n",
       "262              0             0         0         0      US  \n",
       "394              0             0         0         0     AUS  \n",
       "449              0             0         0         0     AUS  \n",
       "525              0             0         0         0      CA  \n",
       "590              0             0         0         0     GER  \n",
       "899              0             0         0         0      US  \n",
       "997              0             0         0         0     GER  \n",
       "1096             0             0         0         0     AUS  \n",
       "1185             0             0         0         0     AUS  \n",
       "1213             0             0         0         0     IND  \n",
       "1312             0             0         0         0     AUS  \n",
       "1515             1             0         0         0      SP  \n",
       "1558             1             0         0         0      SP  \n",
       "1693             0             0         1         0     AUS  \n",
       "1804             0             0         0         0     AUS  \n",
       "1858             0             0         0         0     AUS  \n",
       "1863             0             0         0         0     AUS  \n",
       "1880             0             0         0         0     AUS  \n",
       "1967             0             0         0         0     GER  \n",
       "1983             0             0         0         0     AUS  \n",
       "2139             0             0         0         0     AUS  \n",
       "2165             0             0         0         0     AUS  \n",
       "2170             0             0         0         0      CA  "
      ],
      "text/html": "<div>\n<style scoped>\n    .dataframe tbody tr th:only-of-type {\n        vertical-align: middle;\n    }\n\n    .dataframe tbody tr th {\n        vertical-align: top;\n    }\n\n    .dataframe thead th {\n        text-align: right;\n    }\n</style>\n<table border=\"1\" class=\"dataframe\">\n  <thead>\n    <tr style=\"text-align: right;\">\n      <th></th>\n      <th>ID</th>\n      <th>Year_Birth</th>\n      <th>Education</th>\n      <th>Marital_Status</th>\n      <th>income</th>\n      <th>Kidhome</th>\n      <th>Teenhome</th>\n      <th>Dt_Customer</th>\n      <th>Recency</th>\n      <th>MntWines</th>\n      <th>MntFruits</th>\n      <th>MntMeatProducts</th>\n      <th>MntFishProducts</th>\n      <th>MntSweetProducts</th>\n      <th>MntGoldProds</th>\n      <th>NumDealsPurchases</th>\n      <th>NumWebPurchases</th>\n      <th>NumCatalogPurchases</th>\n      <th>NumStorePurchases</th>\n      <th>NumWebVisitsMonth</th>\n      <th>AcceptedCmp3</th>\n      <th>AcceptedCmp4</th>\n      <th>AcceptedCmp5</th>\n      <th>AcceptedCmp1</th>\n      <th>AcceptedCmp2</th>\n      <th>Response</th>\n      <th>Complain</th>\n      <th>Country</th>\n    </tr>\n  </thead>\n  <tbody>\n    <tr>\n      <th>134</th>\n      <td>8996</td>\n      <td>1957</td>\n      <td>PhD</td>\n      <td>Married</td>\n      <td>NaN</td>\n      <td>2</td>\n      <td>1</td>\n      <td>11/19/12</td>\n      <td>4</td>\n      <td>230</td>\n      <td>42</td>\n      <td>192</td>\n      <td>49</td>\n      <td>37</td>\n      <td>53</td>\n      <td>12</td>\n      <td>7</td>\n      <td>2</td>\n      <td>8</td>\n      <td>9</td>\n      <td>0</td>\n      <td>0</td>\n      <td>0</td>\n      <td>0</td>\n      <td>0</td>\n      <td>0</td>\n      <td>0</td>\n      <td>GER</td>\n    </tr>\n    <tr>\n      <th>262</th>\n      <td>1994</td>\n      <td>1983</td>\n      <td>Graduation</td>\n      <td>Married</td>\n      <td>NaN</td>\n      <td>1</td>\n      <td>0</td>\n      <td>11/15/13</td>\n      <td>11</td>\n      <td>5</td>\n      <td>5</td>\n      <td>6</td>\n      <td>0</td>\n      <td>2</td>\n      <td>1</td>\n      <td>1</td>\n      <td>1</td>\n      <td>0</td>\n      <td>2</td>\n      <td>7</td>\n      <td>0</td>\n      <td>0</td>\n      <td>0</td>\n      <td>0</td>\n      <td>0</td>\n      <td>0</td>\n      <td>0</td>\n      <td>US</td>\n    </tr>\n    <tr>\n      <th>394</th>\n      <td>3769</td>\n      <td>1972</td>\n      <td>PhD</td>\n      <td>Together</td>\n      <td>NaN</td>\n      <td>1</td>\n      <td>0</td>\n      <td>3/2/14</td>\n      <td>17</td>\n      <td>25</td>\n      <td>1</td>\n      <td>13</td>\n      <td>0</td>\n      <td>0</td>\n      <td>3</td>\n      <td>1</td>\n      <td>1</td>\n      <td>0</td>\n      <td>3</td>\n      <td>7</td>\n      <td>0</td>\n      <td>0</td>\n      <td>0</td>\n      <td>0</td>\n      <td>0</td>\n      <td>0</td>\n      <td>0</td>\n      <td>AUS</td>\n    </tr>\n    <tr>\n      <th>449</th>\n      <td>5255</td>\n      <td>1986</td>\n      <td>Graduation</td>\n      <td>Single</td>\n      <td>NaN</td>\n      <td>1</td>\n      <td>0</td>\n      <td>2/20/13</td>\n      <td>19</td>\n      <td>5</td>\n      <td>1</td>\n      <td>3</td>\n      <td>3</td>\n      <td>263</td>\n      <td>362</td>\n      <td>0</td>\n      <td>27</td>\n      <td>0</td>\n      <td>0</td>\n      <td>1</td>\n      <td>0</td>\n      <td>0</td>\n      <td>0</td>\n      <td>0</td>\n      <td>0</td>\n      <td>0</td>\n      <td>0</td>\n      <td>AUS</td>\n    </tr>\n    <tr>\n      <th>525</th>\n      <td>8268</td>\n      <td>1961</td>\n      <td>PhD</td>\n      <td>Married</td>\n      <td>NaN</td>\n      <td>0</td>\n      <td>1</td>\n      <td>7/11/13</td>\n      <td>23</td>\n      <td>352</td>\n      <td>0</td>\n      <td>27</td>\n      <td>10</td>\n      <td>0</td>\n      <td>15</td>\n      <td>3</td>\n      <td>6</td>\n      <td>1</td>\n      <td>7</td>\n      <td>6</td>\n      <td>0</td>\n      <td>0</td>\n      <td>0</td>\n      <td>0</td>\n      <td>0</td>\n      <td>0</td>\n      <td>0</td>\n      <td>CA</td>\n    </tr>\n    <tr>\n      <th>590</th>\n      <td>10629</td>\n      <td>1973</td>\n      <td>2n Cycle</td>\n      <td>Married</td>\n      <td>NaN</td>\n      <td>1</td>\n      <td>0</td>\n      <td>9/14/12</td>\n      <td>25</td>\n      <td>25</td>\n      <td>3</td>\n      <td>43</td>\n      <td>17</td>\n      <td>4</td>\n      <td>17</td>\n      <td>3</td>\n      <td>3</td>\n      <td>0</td>\n      <td>3</td>\n      <td>8</td>\n      <td>0</td>\n      <td>0</td>\n      <td>0</td>\n      <td>0</td>\n      <td>0</td>\n      <td>0</td>\n      <td>0</td>\n      <td>GER</td>\n    </tr>\n    <tr>\n      <th>899</th>\n      <td>10475</td>\n      <td>1970</td>\n      <td>Master</td>\n      <td>Together</td>\n      <td>NaN</td>\n      <td>0</td>\n      <td>1</td>\n      <td>4/1/13</td>\n      <td>39</td>\n      <td>187</td>\n      <td>5</td>\n      <td>65</td>\n      <td>26</td>\n      <td>20</td>\n      <td>14</td>\n      <td>2</td>\n      <td>4</td>\n      <td>2</td>\n      <td>6</td>\n      <td>5</td>\n      <td>0</td>\n      <td>0</td>\n      <td>0</td>\n      <td>0</td>\n      <td>0</td>\n      <td>0</td>\n      <td>0</td>\n      <td>US</td>\n    </tr>\n    <tr>\n      <th>997</th>\n      <td>9235</td>\n      <td>1957</td>\n      <td>Graduation</td>\n      <td>Single</td>\n      <td>NaN</td>\n      <td>1</td>\n      <td>1</td>\n      <td>5/27/14</td>\n      <td>45</td>\n      <td>7</td>\n      <td>0</td>\n      <td>8</td>\n      <td>2</td>\n      <td>0</td>\n      <td>1</td>\n      <td>1</td>\n      <td>1</td>\n      <td>0</td>\n      <td>2</td>\n      <td>7</td>\n      <td>0</td>\n      <td>0</td>\n      <td>0</td>\n      <td>0</td>\n      <td>0</td>\n      <td>0</td>\n      <td>0</td>\n      <td>GER</td>\n    </tr>\n    <tr>\n      <th>1096</th>\n      <td>4345</td>\n      <td>1964</td>\n      <td>2n Cycle</td>\n      <td>Single</td>\n      <td>NaN</td>\n      <td>1</td>\n      <td>1</td>\n      <td>1/12/14</td>\n      <td>49</td>\n      <td>5</td>\n      <td>1</td>\n      <td>9</td>\n      <td>2</td>\n      <td>0</td>\n      <td>4</td>\n      <td>1</td>\n      <td>1</td>\n      <td>0</td>\n      <td>2</td>\n      <td>7</td>\n      <td>0</td>\n      <td>0</td>\n      <td>0</td>\n      <td>0</td>\n      <td>0</td>\n      <td>0</td>\n      <td>0</td>\n      <td>AUS</td>\n    </tr>\n    <tr>\n      <th>1185</th>\n      <td>7187</td>\n      <td>1969</td>\n      <td>Master</td>\n      <td>Together</td>\n      <td>NaN</td>\n      <td>1</td>\n      <td>1</td>\n      <td>5/18/13</td>\n      <td>52</td>\n      <td>375</td>\n      <td>42</td>\n      <td>48</td>\n      <td>94</td>\n      <td>66</td>\n      <td>96</td>\n      <td>7</td>\n      <td>4</td>\n      <td>10</td>\n      <td>4</td>\n      <td>3</td>\n      <td>0</td>\n      <td>0</td>\n      <td>0</td>\n      <td>0</td>\n      <td>0</td>\n      <td>0</td>\n      <td>0</td>\n      <td>AUS</td>\n    </tr>\n    <tr>\n      <th>1213</th>\n      <td>8720</td>\n      <td>1978</td>\n      <td>2n Cycle</td>\n      <td>Together</td>\n      <td>NaN</td>\n      <td>0</td>\n      <td>0</td>\n      <td>8/12/12</td>\n      <td>53</td>\n      <td>32</td>\n      <td>2</td>\n      <td>1607</td>\n      <td>12</td>\n      <td>4</td>\n      <td>22</td>\n      <td>0</td>\n      <td>0</td>\n      <td>0</td>\n      <td>1</td>\n      <td>0</td>\n      <td>0</td>\n      <td>1</td>\n      <td>0</td>\n      <td>0</td>\n      <td>0</td>\n      <td>0</td>\n      <td>0</td>\n      <td>IND</td>\n    </tr>\n    <tr>\n      <th>1312</th>\n      <td>8557</td>\n      <td>1982</td>\n      <td>Graduation</td>\n      <td>Single</td>\n      <td>NaN</td>\n      <td>1</td>\n      <td>0</td>\n      <td>6/17/13</td>\n      <td>57</td>\n      <td>11</td>\n      <td>3</td>\n      <td>22</td>\n      <td>2</td>\n      <td>2</td>\n      <td>6</td>\n      <td>2</td>\n      <td>2</td>\n      <td>0</td>\n      <td>3</td>\n      <td>6</td>\n      <td>0</td>\n      <td>0</td>\n      <td>0</td>\n      <td>0</td>\n      <td>0</td>\n      <td>0</td>\n      <td>0</td>\n      <td>AUS</td>\n    </tr>\n    <tr>\n      <th>1515</th>\n      <td>2863</td>\n      <td>1970</td>\n      <td>Graduation</td>\n      <td>Single</td>\n      <td>NaN</td>\n      <td>1</td>\n      <td>2</td>\n      <td>8/23/13</td>\n      <td>67</td>\n      <td>738</td>\n      <td>20</td>\n      <td>172</td>\n      <td>52</td>\n      <td>50</td>\n      <td>20</td>\n      <td>6</td>\n      <td>2</td>\n      <td>3</td>\n      <td>10</td>\n      <td>7</td>\n      <td>0</td>\n      <td>1</td>\n      <td>0</td>\n      <td>1</td>\n      <td>0</td>\n      <td>0</td>\n      <td>0</td>\n      <td>SP</td>\n    </tr>\n    <tr>\n      <th>1558</th>\n      <td>2437</td>\n      <td>1989</td>\n      <td>Graduation</td>\n      <td>Married</td>\n      <td>NaN</td>\n      <td>0</td>\n      <td>0</td>\n      <td>6/3/13</td>\n      <td>69</td>\n      <td>861</td>\n      <td>138</td>\n      <td>461</td>\n      <td>60</td>\n      <td>30</td>\n      <td>61</td>\n      <td>1</td>\n      <td>6</td>\n      <td>5</td>\n      <td>12</td>\n      <td>3</td>\n      <td>0</td>\n      <td>1</td>\n      <td>0</td>\n      <td>1</td>\n      <td>0</td>\n      <td>0</td>\n      <td>0</td>\n      <td>SP</td>\n    </tr>\n    <tr>\n      <th>1693</th>\n      <td>5250</td>\n      <td>1943</td>\n      <td>Master</td>\n      <td>Widow</td>\n      <td>NaN</td>\n      <td>0</td>\n      <td>0</td>\n      <td>10/30/13</td>\n      <td>75</td>\n      <td>532</td>\n      <td>126</td>\n      <td>490</td>\n      <td>164</td>\n      <td>126</td>\n      <td>126</td>\n      <td>1</td>\n      <td>5</td>\n      <td>5</td>\n      <td>11</td>\n      <td>1</td>\n      <td>0</td>\n      <td>0</td>\n      <td>1</td>\n      <td>0</td>\n      <td>0</td>\n      <td>1</td>\n      <td>0</td>\n      <td>AUS</td>\n    </tr>\n    <tr>\n      <th>1804</th>\n      <td>7281</td>\n      <td>1959</td>\n      <td>PhD</td>\n      <td>Single</td>\n      <td>NaN</td>\n      <td>0</td>\n      <td>0</td>\n      <td>11/5/13</td>\n      <td>80</td>\n      <td>81</td>\n      <td>11</td>\n      <td>50</td>\n      <td>3</td>\n      <td>2</td>\n      <td>39</td>\n      <td>1</td>\n      <td>1</td>\n      <td>3</td>\n      <td>4</td>\n      <td>2</td>\n      <td>0</td>\n      <td>0</td>\n      <td>0</td>\n      <td>0</td>\n      <td>0</td>\n      <td>0</td>\n      <td>0</td>\n      <td>AUS</td>\n    </tr>\n    <tr>\n      <th>1858</th>\n      <td>1612</td>\n      <td>1981</td>\n      <td>PhD</td>\n      <td>Single</td>\n      <td>NaN</td>\n      <td>1</td>\n      <td>0</td>\n      <td>5/31/13</td>\n      <td>82</td>\n      <td>23</td>\n      <td>0</td>\n      <td>15</td>\n      <td>0</td>\n      <td>2</td>\n      <td>7</td>\n      <td>2</td>\n      <td>3</td>\n      <td>0</td>\n      <td>3</td>\n      <td>6</td>\n      <td>0</td>\n      <td>0</td>\n      <td>0</td>\n      <td>0</td>\n      <td>0</td>\n      <td>0</td>\n      <td>0</td>\n      <td>AUS</td>\n    </tr>\n    <tr>\n      <th>1863</th>\n      <td>5079</td>\n      <td>1971</td>\n      <td>Graduation</td>\n      <td>Married</td>\n      <td>NaN</td>\n      <td>1</td>\n      <td>1</td>\n      <td>3/3/13</td>\n      <td>82</td>\n      <td>71</td>\n      <td>1</td>\n      <td>16</td>\n      <td>0</td>\n      <td>0</td>\n      <td>9</td>\n      <td>4</td>\n      <td>2</td>\n      <td>1</td>\n      <td>3</td>\n      <td>8</td>\n      <td>0</td>\n      <td>0</td>\n      <td>0</td>\n      <td>0</td>\n      <td>0</td>\n      <td>0</td>\n      <td>0</td>\n      <td>AUS</td>\n    </tr>\n    <tr>\n      <th>1880</th>\n      <td>10339</td>\n      <td>1954</td>\n      <td>Master</td>\n      <td>Together</td>\n      <td>NaN</td>\n      <td>0</td>\n      <td>1</td>\n      <td>6/23/13</td>\n      <td>83</td>\n      <td>161</td>\n      <td>0</td>\n      <td>22</td>\n      <td>0</td>\n      <td>0</td>\n      <td>24</td>\n      <td>2</td>\n      <td>4</td>\n      <td>1</td>\n      <td>4</td>\n      <td>6</td>\n      <td>0</td>\n      <td>0</td>\n      <td>0</td>\n      <td>0</td>\n      <td>0</td>\n      <td>0</td>\n      <td>0</td>\n      <td>AUS</td>\n    </tr>\n    <tr>\n      <th>1967</th>\n      <td>5798</td>\n      <td>1973</td>\n      <td>Master</td>\n      <td>Together</td>\n      <td>NaN</td>\n      <td>0</td>\n      <td>0</td>\n      <td>11/23/13</td>\n      <td>87</td>\n      <td>445</td>\n      <td>37</td>\n      <td>359</td>\n      <td>98</td>\n      <td>28</td>\n      <td>18</td>\n      <td>1</td>\n      <td>2</td>\n      <td>4</td>\n      <td>8</td>\n      <td>1</td>\n      <td>0</td>\n      <td>0</td>\n      <td>0</td>\n      <td>0</td>\n      <td>0</td>\n      <td>0</td>\n      <td>0</td>\n      <td>GER</td>\n    </tr>\n    <tr>\n      <th>1983</th>\n      <td>2902</td>\n      <td>1958</td>\n      <td>Graduation</td>\n      <td>Together</td>\n      <td>NaN</td>\n      <td>1</td>\n      <td>1</td>\n      <td>9/3/12</td>\n      <td>87</td>\n      <td>19</td>\n      <td>4</td>\n      <td>12</td>\n      <td>2</td>\n      <td>2</td>\n      <td>6</td>\n      <td>1</td>\n      <td>1</td>\n      <td>0</td>\n      <td>3</td>\n      <td>5</td>\n      <td>0</td>\n      <td>0</td>\n      <td>0</td>\n      <td>0</td>\n      <td>0</td>\n      <td>0</td>\n      <td>0</td>\n      <td>AUS</td>\n    </tr>\n    <tr>\n      <th>2139</th>\n      <td>3117</td>\n      <td>1955</td>\n      <td>Graduation</td>\n      <td>Single</td>\n      <td>NaN</td>\n      <td>0</td>\n      <td>1</td>\n      <td>10/18/13</td>\n      <td>95</td>\n      <td>264</td>\n      <td>0</td>\n      <td>21</td>\n      <td>12</td>\n      <td>6</td>\n      <td>147</td>\n      <td>3</td>\n      <td>6</td>\n      <td>1</td>\n      <td>5</td>\n      <td>7</td>\n      <td>0</td>\n      <td>0</td>\n      <td>0</td>\n      <td>0</td>\n      <td>0</td>\n      <td>0</td>\n      <td>0</td>\n      <td>AUS</td>\n    </tr>\n    <tr>\n      <th>2165</th>\n      <td>7244</td>\n      <td>1951</td>\n      <td>Graduation</td>\n      <td>Single</td>\n      <td>NaN</td>\n      <td>2</td>\n      <td>1</td>\n      <td>1/1/14</td>\n      <td>96</td>\n      <td>48</td>\n      <td>5</td>\n      <td>48</td>\n      <td>6</td>\n      <td>10</td>\n      <td>7</td>\n      <td>3</td>\n      <td>2</td>\n      <td>1</td>\n      <td>4</td>\n      <td>6</td>\n      <td>0</td>\n      <td>0</td>\n      <td>0</td>\n      <td>0</td>\n      <td>0</td>\n      <td>0</td>\n      <td>0</td>\n      <td>AUS</td>\n    </tr>\n    <tr>\n      <th>2170</th>\n      <td>1295</td>\n      <td>1963</td>\n      <td>Graduation</td>\n      <td>Married</td>\n      <td>NaN</td>\n      <td>0</td>\n      <td>1</td>\n      <td>8/11/13</td>\n      <td>96</td>\n      <td>231</td>\n      <td>65</td>\n      <td>196</td>\n      <td>38</td>\n      <td>71</td>\n      <td>124</td>\n      <td>1</td>\n      <td>6</td>\n      <td>5</td>\n      <td>7</td>\n      <td>4</td>\n      <td>0</td>\n      <td>0</td>\n      <td>0</td>\n      <td>0</td>\n      <td>0</td>\n      <td>0</td>\n      <td>0</td>\n      <td>CA</td>\n    </tr>\n  </tbody>\n</table>\n</div>"
     },
     "metadata": {},
     "execution_count": 11
    }
   ],
   "source": [
    "income_null_indexes = base.income.isnull()\n",
    "base[income_null_indexes]"
   ]
  },
  {
   "cell_type": "code",
   "execution_count": null,
   "metadata": {},
   "outputs": [],
   "source": []
  }
 ]
}